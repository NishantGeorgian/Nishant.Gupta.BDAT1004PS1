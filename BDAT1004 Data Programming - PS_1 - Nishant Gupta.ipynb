{
 "cells": [
  {
   "cell_type": "markdown",
   "id": "0258bc1c",
   "metadata": {},
   "source": [
    "### Name - Nishant Gupta\n",
    "\n",
    "### Subject - BDAT1004 - Data Programming Section B\n",
    "\n",
    "### Assignment Submission - Problem Set 1"
   ]
  },
  {
   "cell_type": "markdown",
   "id": "6c19cf86",
   "metadata": {},
   "source": [
    "#### Question - 1\n",
    "#### Data type of each of the following:"
   ]
  },
  {
   "cell_type": "code",
   "execution_count": 1,
   "id": "4c4d731e",
   "metadata": {
    "scrolled": true
   },
   "outputs": [
    {
     "data": {
      "text/plain": [
       "int"
      ]
     },
     "execution_count": 1,
     "metadata": {},
     "output_type": "execute_result"
    }
   ],
   "source": [
    "type(5)"
   ]
  },
  {
   "cell_type": "code",
   "execution_count": 2,
   "id": "2c352312",
   "metadata": {
    "scrolled": true
   },
   "outputs": [
    {
     "data": {
      "text/plain": [
       "float"
      ]
     },
     "execution_count": 2,
     "metadata": {},
     "output_type": "execute_result"
    }
   ],
   "source": [
    "type(5.0)"
   ]
  },
  {
   "cell_type": "code",
   "execution_count": 3,
   "id": "d959b1a4",
   "metadata": {},
   "outputs": [
    {
     "data": {
      "text/plain": [
       "bool"
      ]
     },
     "execution_count": 3,
     "metadata": {},
     "output_type": "execute_result"
    }
   ],
   "source": [
    "i = 5 > 1\n",
    "type(i)"
   ]
  },
  {
   "cell_type": "code",
   "execution_count": 4,
   "id": "6d61e208",
   "metadata": {},
   "outputs": [
    {
     "data": {
      "text/plain": [
       "str"
      ]
     },
     "execution_count": 4,
     "metadata": {},
     "output_type": "execute_result"
    }
   ],
   "source": [
    "type ('5')"
   ]
  },
  {
   "cell_type": "code",
   "execution_count": 5,
   "id": "886c9e34",
   "metadata": {},
   "outputs": [
    {
     "data": {
      "text/plain": [
       "int"
      ]
     },
     "execution_count": 5,
     "metadata": {},
     "output_type": "execute_result"
    }
   ],
   "source": [
    "i = 5*2\n",
    "type(i)"
   ]
  },
  {
   "cell_type": "code",
   "execution_count": 6,
   "id": "1decbaca",
   "metadata": {},
   "outputs": [
    {
     "data": {
      "text/plain": [
       "str"
      ]
     },
     "execution_count": 6,
     "metadata": {},
     "output_type": "execute_result"
    }
   ],
   "source": [
    "type('5' * 2)"
   ]
  },
  {
   "cell_type": "code",
   "execution_count": 7,
   "id": "3ab2df82",
   "metadata": {},
   "outputs": [
    {
     "data": {
      "text/plain": [
       "str"
      ]
     },
     "execution_count": 7,
     "metadata": {},
     "output_type": "execute_result"
    }
   ],
   "source": [
    "type('5' + '2')"
   ]
  },
  {
   "cell_type": "code",
   "execution_count": 9,
   "id": "196648bb",
   "metadata": {},
   "outputs": [
    {
     "data": {
      "text/plain": [
       "float"
      ]
     },
     "execution_count": 9,
     "metadata": {},
     "output_type": "execute_result"
    }
   ],
   "source": [
    "i=5/2\n",
    "type(i)"
   ]
  },
  {
   "cell_type": "code",
   "execution_count": 8,
   "id": "c1c20a88",
   "metadata": {},
   "outputs": [
    {
     "data": {
      "text/plain": [
       "int"
      ]
     },
     "execution_count": 8,
     "metadata": {},
     "output_type": "execute_result"
    }
   ],
   "source": [
    "i=5%2\n",
    "type(i)"
   ]
  },
  {
   "cell_type": "code",
   "execution_count": 9,
   "id": "326fe7b7",
   "metadata": {},
   "outputs": [
    {
     "data": {
      "text/plain": [
       "set"
      ]
     },
     "execution_count": 9,
     "metadata": {},
     "output_type": "execute_result"
    }
   ],
   "source": [
    "type({5,2,1})"
   ]
  },
  {
   "cell_type": "code",
   "execution_count": 10,
   "id": "9343ad20",
   "metadata": {},
   "outputs": [
    {
     "data": {
      "text/plain": [
       "bool"
      ]
     },
     "execution_count": 10,
     "metadata": {},
     "output_type": "execute_result"
    }
   ],
   "source": [
    "i = 5 == 3\n",
    "type(i)"
   ]
  },
  {
   "cell_type": "code",
   "execution_count": 11,
   "id": "d36cca1f",
   "metadata": {},
   "outputs": [
    {
     "data": {
      "text/plain": [
       "float"
      ]
     },
     "execution_count": 11,
     "metadata": {},
     "output_type": "execute_result"
    }
   ],
   "source": [
    "i=22/7 #Value of pi = 22/7\n",
    "type(i)"
   ]
  },
  {
   "cell_type": "markdown",
   "id": "10ece760",
   "metadata": {},
   "source": [
    "#### Question - 2\n",
    "\n",
    "#### a. Number of letters in the word 'Supercalifragilisticexpialidocious'"
   ]
  },
  {
   "cell_type": "code",
   "execution_count": 12,
   "id": "30719e39",
   "metadata": {},
   "outputs": [
    {
     "data": {
      "text/plain": [
       "34"
      ]
     },
     "execution_count": 12,
     "metadata": {},
     "output_type": "execute_result"
    }
   ],
   "source": [
    "str1='Supercalifragilisticexpialidocious'\n",
    "len(str1)"
   ]
  },
  {
   "cell_type": "markdown",
   "id": "7814e954",
   "metadata": {},
   "source": [
    "#### b. Does 'Supercalifragilisticexpialidocious' contain 'ice' as a substring?"
   ]
  },
  {
   "cell_type": "code",
   "execution_count": 14,
   "id": "b869b93a",
   "metadata": {},
   "outputs": [
    {
     "name": "stdout",
     "output_type": "stream",
     "text": [
      "Yes, Supercalifragilisticexpialidocious contains ice as a substring.\n"
     ]
    }
   ],
   "source": [
    "str1.find('ice')\n",
    "if str1.find('ice') != -1:\n",
    "    print(\"Yes, Supercalifragilisticexpialidocious contains ice as a substring.\")\n",
    "else:\n",
    "    print(\"No, Supercalifragilisticexpialidocious does not contain ice as a substring.\")"
   ]
  },
  {
   "cell_type": "markdown",
   "id": "e2bd4542",
   "metadata": {},
   "source": [
    "#### c. Find the longest string"
   ]
  },
  {
   "cell_type": "code",
   "execution_count": 15,
   "id": "43905c2c",
   "metadata": {},
   "outputs": [
    {
     "data": {
      "text/plain": [
       "27"
      ]
     },
     "execution_count": 15,
     "metadata": {},
     "output_type": "execute_result"
    }
   ],
   "source": [
    "str2='Honorificabilitudinitatibus'\n",
    "len(str2)"
   ]
  },
  {
   "cell_type": "code",
   "execution_count": 16,
   "id": "52ad74a3",
   "metadata": {},
   "outputs": [
    {
     "data": {
      "text/plain": [
       "34"
      ]
     },
     "execution_count": 16,
     "metadata": {},
     "output_type": "execute_result"
    }
   ],
   "source": [
    "str3='Bababadalgharaghtakamminarronnkonn'\n",
    "len(str3)"
   ]
  },
  {
   "cell_type": "code",
   "execution_count": 17,
   "id": "e4d5ff74",
   "metadata": {},
   "outputs": [
    {
     "name": "stdout",
     "output_type": "stream",
     "text": [
      "Supercalifragilisticexpialidocious is the longest string\n",
      "Bababadalgharaghtakamminarronnkonn is the longest string\n"
     ]
    }
   ],
   "source": [
    "if len(str1) >= len(str3) & len(str2):\n",
    "    print(str1 + ' is the longest string')\n",
    "    \n",
    "if len(str2) >= len(str1) & len(str3):\n",
    "    print(str2 + ' is the longest string')\n",
    "    \n",
    "if len(str3) >= len(str1) & len(str2):\n",
    "    print(str3 + ' is the longest string')"
   ]
  },
  {
   "cell_type": "markdown",
   "id": "c2222150",
   "metadata": {},
   "source": [
    "#### d. Find the word that comes first and last in the dictionary"
   ]
  },
  {
   "cell_type": "code",
   "execution_count": 18,
   "id": "e3572b01",
   "metadata": {},
   "outputs": [
    {
     "name": "stdout",
     "output_type": "stream",
     "text": [
      "Bartok comes first in the dictionary.\n",
      "Buxtehude comes last in the dictionary.\n"
     ]
    }
   ],
   "source": [
    "composers = ['Berlioz', 'Borodin', 'Brian','Bartok', 'Bellini', 'Buxtehude', 'Bernstein']\n",
    "\n",
    "composers.sort()\n",
    "\n",
    "print (composers[0] + ' comes first in the dictionary.')\n",
    "print (composers[-1]+ ' comes last in the dictionary.')"
   ]
  },
  {
   "cell_type": "markdown",
   "id": "1048a0bc",
   "metadata": {},
   "source": [
    "#### Question - 3\n",
    "#### Find the area of the triangle using Heron's Formula"
   ]
  },
  {
   "cell_type": "code",
   "execution_count": 19,
   "id": "9566c480",
   "metadata": {},
   "outputs": [
    {
     "name": "stdout",
     "output_type": "stream",
     "text": [
      "Area = 1.7320508075688772\n"
     ]
    }
   ],
   "source": [
    "import math\n",
    "\n",
    "def triangleArea(a,b,c):\n",
    "    s = float((a + b + c)/2)\n",
    "    area = float(math.sqrt(s * (s-a) * (s-b) * (s-c)))\n",
    "    print ('Area =', area)\n",
    "    \n",
    "triangleArea(2,2,2)"
   ]
  },
  {
   "cell_type": "markdown",
   "id": "49d6f488",
   "metadata": {},
   "source": [
    "#### Question - 4\n",
    "#### Separate odd and even numbers"
   ]
  },
  {
   "cell_type": "code",
   "execution_count": 20,
   "id": "8512a4ad",
   "metadata": {},
   "outputs": [
    {
     "name": "stdout",
     "output_type": "stream",
     "text": [
      "Please enter the number of elements to be stored in the array - 5\n",
      "element - 0 : 25\n",
      "element - 1 : 47\n",
      "element - 2 : 42\n",
      "element - 3 : 56\n",
      "element - 4 : 32\n",
      "Even numbers are :  [42, 56, 32]\n",
      "Odd numbers are :  [25, 47]\n"
     ]
    }
   ],
   "source": [
    "count = int(input('Please enter the number of elements to be stored in the array - '))\n",
    "num = 0\n",
    "odd_numbers = []\n",
    "even_numbers = []\n",
    "\n",
    "for xi in range(count):\n",
    "    element = int(input('element - ' + str(num) + ' : '))\n",
    "    num = num + 1\n",
    "    \n",
    "    if element%2 == 0 :\n",
    "        even_numbers.append(element)\n",
    "    else :\n",
    "        odd_numbers.append(element)\n",
    "        \n",
    "print ('Even numbers are : ', even_numbers)\n",
    "print ('Odd numbers are : ', odd_numbers)  "
   ]
  },
  {
   "cell_type": "markdown",
   "id": "b8e0703e",
   "metadata": {},
   "source": [
    "#### Question - 5\n",
    "#### a. Function inside() to find whether a point lies in a rectangle"
   ]
  },
  {
   "cell_type": "code",
   "execution_count": 21,
   "id": "4896517d",
   "metadata": {},
   "outputs": [
    {
     "data": {
      "text/plain": [
       "True"
      ]
     },
     "execution_count": 21,
     "metadata": {},
     "output_type": "execute_result"
    }
   ],
   "source": [
    "def inside(x,y,x1,y1,x2,y2):\n",
    "    if (x1 <= x <= x2) and (y1 <= y <= y2):\n",
    "        return True\n",
    "    else:\n",
    "        return False\n",
    "\n",
    "inside(1,1,0,0,2,3)"
   ]
  },
  {
   "cell_type": "code",
   "execution_count": 22,
   "id": "ba99839a",
   "metadata": {},
   "outputs": [
    {
     "data": {
      "text/plain": [
       "False"
      ]
     },
     "execution_count": 22,
     "metadata": {},
     "output_type": "execute_result"
    }
   ],
   "source": [
    "inside(-1,-1,0,0,2,3)"
   ]
  },
  {
   "cell_type": "code",
   "execution_count": 23,
   "id": "5a559573",
   "metadata": {},
   "outputs": [
    {
     "name": "stdout",
     "output_type": "stream",
     "text": [
      "False\n"
     ]
    }
   ],
   "source": [
    "a = inside(1,1,0.3,0.5,1.1,0.7)\n",
    "b = inside(1,1,0.5,0.2,1.1,2)\n",
    "\n",
    "result = a and b\n",
    "print (result)"
   ]
  },
  {
   "cell_type": "markdown",
   "id": "543d31d9",
   "metadata": {},
   "source": [
    "#### Question - 6\n",
    "#### Convert a word into pig-Latin format using the function pig()"
   ]
  },
  {
   "cell_type": "code",
   "execution_count": 24,
   "id": "57dd6ee5",
   "metadata": {},
   "outputs": [
    {
     "name": "stdout",
     "output_type": "stream",
     "text": [
      "appyhay\n",
      "enterway\n"
     ]
    }
   ],
   "source": [
    "def pig(word):\n",
    "    if(word[0].lower() in ('a' , 'e' , 'i', 'o' , 'u')):\n",
    "        print(word.lower() + 'way')\n",
    "    else:\n",
    "        print(word[1:].lower() + word[0].lower() + 'ay')\n",
    "        \n",
    "pig('happy')\n",
    "pig('Enter')"
   ]
  },
  {
   "cell_type": "markdown",
   "id": "47f33c3a",
   "metadata": {},
   "source": [
    "#### Question - 7\n",
    "#### Find the number of patients of each blood type."
   ]
  },
  {
   "cell_type": "code",
   "execution_count": 25,
   "id": "f98f2e99",
   "metadata": {},
   "outputs": [
    {
     "name": "stdout",
     "output_type": "stream",
     "text": [
      "There are 15 patients of blood type A .\n",
      "There is one patient of blood type B .\n",
      "There are 13 patients of blood type AB .\n",
      "There are 15 patients of blood type O .\n",
      "There are no patients of blood type OO .\n"
     ]
    }
   ],
   "source": [
    "def bldcount():\n",
    "\n",
    "    file = open('bloodtype.txt','r')\n",
    "    list = file.read()\n",
    "    list = list.split()\n",
    "    file.close()\n",
    "    \n",
    "    bldtype = ['A','B','AB','O','OO']\n",
    "\n",
    "    for i in bldtype:\n",
    "        if list.count(i) == 0:\n",
    "            print(\"There are no patients of blood type\",i,\".\")\n",
    "        elif list.count(i) == 1:\n",
    "            print(\"There is one patient of blood type\",i,\".\")\n",
    "        else:\n",
    "            print(\"There are\", list.count(i),\"patients of blood type\",i,\".\")\n",
    "            \n",
    "bldcount()"
   ]
  },
  {
   "cell_type": "markdown",
   "id": "9526688f",
   "metadata": {},
   "source": [
    "#### Question - 8\n",
    "#### Currency Convertor function to convert currency to USD"
   ]
  },
  {
   "cell_type": "code",
   "execution_count": 26,
   "id": "301a466c",
   "metadata": {},
   "outputs": [
    {
     "name": "stdout",
     "output_type": "stream",
     "text": [
      "122.96544\n",
      "1.241401\n"
     ]
    }
   ],
   "source": [
    "def curconv(curr, amt):\n",
    "    file = open(\"currencies.txt\")\n",
    "    \n",
    "    for i in file.readlines():\n",
    "        \n",
    "        value = i.split()\n",
    "        cur_type, rate = value[0], float(value[1])\n",
    "        if(cur_type == curr):\n",
    "            break\n",
    "    file.close()\n",
    "    print (rate * amt)\n",
    "\n",
    "\n",
    "curconv(\"EUR\", 100)\n",
    "curconv(\"JPY\", 100)"
   ]
  },
  {
   "cell_type": "markdown",
   "id": "d12c0e82",
   "metadata": {},
   "source": [
    "#### Question - 9\n",
    "#### Identify the type of exception"
   ]
  },
  {
   "cell_type": "code",
   "execution_count": 27,
   "id": "208ddae7",
   "metadata": {},
   "outputs": [
    {
     "name": "stdout",
     "output_type": "stream",
     "text": [
      "unsupported operand type(s) for +: 'int' and 'str'\n",
      "list index out of range\n",
      "math domain error\n",
      "name 'randomVariable' is not defined\n",
      "[Errno 2] No such file or directory: 'randomFileName'\n"
     ]
    }
   ],
   "source": [
    "try:\n",
    "    x = 6 + 'a'\n",
    "except Exception as error:\n",
    "    print(error)\n",
    "    \n",
    "try:\n",
    "    x = [1,2,3,4,5,6,7,8,9,10]\n",
    "    print(x[12])\n",
    "except Exception as error:\n",
    "    print(error)\n",
    "    \n",
    "try:\n",
    "    import math\n",
    "    x = math.sqrt(-1)\n",
    "except Exception as error:\n",
    "    print(error)\n",
    "    \n",
    "try:\n",
    "    print(randomVariable)\n",
    "except Exception as error:\n",
    "    print(error)\n",
    "\n",
    "try:\n",
    "    file = open(\"randomFileName\")\n",
    "except Exception as error:\n",
    "    print(error)"
   ]
  },
  {
   "cell_type": "markdown",
   "id": "14c030de",
   "metadata": {},
   "source": [
    "#### Question - 10\n",
    "#### Function frequencies() that takes a string as its input parameter and returns a list of integers showing the number of times each character appears in the text."
   ]
  },
  {
   "cell_type": "code",
   "execution_count": 31,
   "id": "d663d794",
   "metadata": {},
   "outputs": [
    {
     "name": "stdout",
     "output_type": "stream",
     "text": [
      "Please enter the input string - The quick red fox got bored and went home.\n",
      "1,1,1,3,5,1,1,2,1,0,1,0,1,2,4,0,1,2,0,3,1,0,1,1,0,0,"
     ]
    }
   ],
   "source": [
    "def frequencies(word):\n",
    "    word=word.lower()\n",
    "    letters = ['a','b','c','d','e','f','g','h','i','j','k','l','m','n','o','p','q','r','s','t','u','v','w','x','y','z']\n",
    "    \n",
    "    for x in range(0,len(letters)):\n",
    "        d=word.count(letters[x])\n",
    "        result=str(d)\n",
    "        print(result,end=\",\")\n",
    "    \n",
    "userInput = str(input('Please enter the input string - '))    \n",
    "frequencies(userInput)"
   ]
  },
  {
   "cell_type": "code",
   "execution_count": 30,
   "id": "4d8f6dea",
   "metadata": {},
   "outputs": [
    {
     "name": "stdout",
     "output_type": "stream",
     "text": [
      "1,0,0,0,1,0,0,0,0,0,0,1,0,0,0,2,0,0,0,0,0,0,0,0,0,0,"
     ]
    }
   ],
   "source": [
    "frequencies('apple')"
   ]
  },
  {
   "cell_type": "markdown",
   "id": "c6be33a8",
   "metadata": {},
   "source": [
    "### Thank you. Have a nice day."
   ]
  }
 ],
 "metadata": {
  "kernelspec": {
   "display_name": "Python 3 (ipykernel)",
   "language": "python",
   "name": "python3"
  },
  "language_info": {
   "codemirror_mode": {
    "name": "ipython",
    "version": 3
   },
   "file_extension": ".py",
   "mimetype": "text/x-python",
   "name": "python",
   "nbconvert_exporter": "python",
   "pygments_lexer": "ipython3",
   "version": "3.9.13"
  }
 },
 "nbformat": 4,
 "nbformat_minor": 5
}
